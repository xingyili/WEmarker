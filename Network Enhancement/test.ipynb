{
 "cells": [
  {
   "cell_type": "code",
   "execution_count": 1,
   "metadata": {},
   "outputs": [],
   "source": [
    "import numpy as np"
   ]
  },
  {
   "cell_type": "code",
   "execution_count": 2,
   "metadata": {},
   "outputs": [],
   "source": [
    "Adj = np.array([[3/5,1/5,1/5,0],\\\n",
    "                [1/5,17/40,1/8,1/4],\\\n",
    "                    [1/5,1/8,17/40,1/4],\\\n",
    "                        [0,1/4,1/4,1/2]])"
   ]
  },
  {
   "cell_type": "code",
   "execution_count": 3,
   "metadata": {},
   "outputs": [
    {
     "data": {
      "text/plain": [
       "array([[0.6  , 0.   , 0.   , 0.   ],\n",
       "       [0.   , 0.425, 0.   , 0.   ],\n",
       "       [0.   , 0.   , 0.425, 0.   ],\n",
       "       [0.   , 0.   , 0.   , 0.5  ]])"
      ]
     },
     "execution_count": 3,
     "metadata": {},
     "output_type": "execute_result"
    }
   ],
   "source": [
    "Adj * np.eye(4)"
   ]
  },
  {
   "cell_type": "code",
   "execution_count": 4,
   "metadata": {},
   "outputs": [],
   "source": [
    "W0 = np.array([[0,1,1,1],\\\n",
    "               [1,0,1,0],\\\n",
    "                [1,1,0,0],\\\n",
    "                    [1,0,0,0]])\n",
    "for i in range(10):\n",
    "    if i == 0:\n",
    "        Wt = W0\n",
    "    else:\n",
    "        Wt = W_final\n",
    "    W_final = 0.7 * Adj * Wt * Adj + 0.3 * Adj"
   ]
  },
  {
   "cell_type": "code",
   "execution_count": 5,
   "metadata": {},
   "outputs": [
    {
     "data": {
      "text/plain": [
       "array([[0.24064146, 0.0617284 , 0.0617284 , 0.        ],\n",
       "       [0.0617284 , 0.14595407, 0.03791469, 0.07843137],\n",
       "       [0.0617284 , 0.03791469, 0.14595407, 0.07843137],\n",
       "       [0.        , 0.07843137, 0.07843137, 0.18181818]])"
      ]
     },
     "execution_count": 5,
     "metadata": {},
     "output_type": "execute_result"
    }
   ],
   "source": [
    "W_final"
   ]
  }
 ],
 "metadata": {
  "kernelspec": {
   "display_name": "base",
   "language": "python",
   "name": "python3"
  },
  "language_info": {
   "codemirror_mode": {
    "name": "ipython",
    "version": 3
   },
   "file_extension": ".py",
   "mimetype": "text/x-python",
   "name": "python",
   "nbconvert_exporter": "python",
   "pygments_lexer": "ipython3",
   "version": "3.9.12"
  },
  "orig_nbformat": 4
 },
 "nbformat": 4,
 "nbformat_minor": 2
}
